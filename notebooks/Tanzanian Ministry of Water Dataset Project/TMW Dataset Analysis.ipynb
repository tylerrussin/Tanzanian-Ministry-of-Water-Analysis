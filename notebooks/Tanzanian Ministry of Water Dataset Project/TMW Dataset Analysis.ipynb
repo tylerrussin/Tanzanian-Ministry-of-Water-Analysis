{
 "cells": [
  {
   "cell_type": "markdown",
   "metadata": {},
   "source": [
    "# Tanzanian Ministry of Water Dataset Analysis"
   ]
  },
  {
   "cell_type": "markdown",
   "metadata": {},
   "source": [
    "**Imported libraries**"
   ]
  },
  {
   "cell_type": "code",
   "execution_count": 1,
   "metadata": {},
   "outputs": [],
   "source": [
    "import pandas as pd\n",
    "import numpy as np\n",
    "import math\n",
    "\n",
    "from sklearn.experimental import enable_iterative_imputer\n",
    "from sklearn.preprocessing import LabelEncoder\n",
    "from sklearn.impute import KNNImputer, IterativeImputer\n",
    "from sklearn.feature_selection import SelectKBest, f_regression\n",
    "\n",
    "from plotly.subplots import make_subplots\n",
    "import plotly.graph_objects as go\n",
    "\n",
    "import warnings\n",
    "warnings.filterwarnings(\"ignore\", category=RuntimeWarning) "
   ]
  },
  {
   "cell_type": "markdown",
   "metadata": {},
   "source": [
    "**Loading in the datasets**"
   ]
  },
  {
   "cell_type": "code",
   "execution_count": 37,
   "metadata": {},
   "outputs": [],
   "source": [
    "y_train = pd.read_csv('data/dependent_vars.csv')\n",
    "X_train = pd.read_csv('data/independent_vars.csv')\n",
    "X_test_final = pd.read_csv('data/independent_test.csv')\n",
    "SF = pd.read_csv('data/SubmissionFormat.csv')\n",
    "\n",
    "# Creating on single dataframe to work with\n",
    "df = X_train.merge(y_train, on='id')"
   ]
  },
  {
   "cell_type": "markdown",
   "metadata": {},
   "source": [
    "### Initial Data Exploration\n",
    "\n",
    "**Numeric Features**\n",
    "- amount_tsh - Total static head (amount water available to waterpoint)\n",
    "- date_recorded - The date the row was entered\n",
    "- gps_height - Altitude of the well\n",
    "- longitude - GPS coordinate\n",
    "- latitude - GPS coordinate\n",
    "- num_private -\n",
    "- region_code - Geographic location (coded)\n",
    "- district_code - Geographic location (coded)\n",
    "- population - Population around the well\n",
    "- construction_year - Year the waterpoint was constructed\n",
    "\n",
    "\n",
    "**Categorical Features**\n",
    "- funder - Who funded the well\n",
    "- installer - Organization that installed the well\n",
    "- wpt_name - Name of the waterpoint if there is one\n",
    "- basin - Geographic water basin\n",
    "- subvillage - Geographic location\n",
    "- region - Geographic location\n",
    "- lga - Geographic location\n",
    "- ward - Geographic location\n",
    "- public_meeting - True/False\n",
    "- recorded_by - Group entering this row of data\n",
    "- scheme_management - Who operates the waterpoint\n",
    "- scheme_name - Who operates the waterpoint\n",
    "- permit - If the waterpoint is permitted\n",
    "- extraction_type - The kind of extraction the waterpoint uses\n",
    "- extraction_type_group - The kind of extraction the waterpoint uses\n",
    "- extraction_type_class - The kind of extraction the waterpoint uses\n",
    "- management - How the waterpoint is managed\n",
    "- management_group - How the waterpoint is managed\n",
    "- payment - What the water costs\n",
    "- payment_type - What the water costs\n",
    "- water_quality - The quality of the water\n",
    "- quality_group - The quality of the water\n",
    "- quantity - The quantity of water\n",
    "- quantity_group - The quantity of water\n",
    "- source - The source of the water\n",
    "- source_type - The source of the water\n",
    "- source_class - The source of the water\n",
    "- waterpoint_type - The kind of waterpoint\n",
    "- waterpoint_type_group - The kind of waterpoint\n",
    "\n",
    "\n",
    "**Target**\n",
    "\n",
    "- status_group - If the waterpump is functional/ non-functional/ functional needs repair\n",
    "\n",
    "**Shape of Dataframe**\n",
    "\n",
    "(59400, 41)\n",
    "\n"
   ]
  },
  {
   "cell_type": "code",
   "execution_count": 38,
   "metadata": {},
   "outputs": [
    {
     "data": {
      "text/html": [
       "<div>\n",
       "<style scoped>\n",
       "    .dataframe tbody tr th:only-of-type {\n",
       "        vertical-align: middle;\n",
       "    }\n",
       "\n",
       "    .dataframe tbody tr th {\n",
       "        vertical-align: top;\n",
       "    }\n",
       "\n",
       "    .dataframe thead th {\n",
       "        text-align: right;\n",
       "    }\n",
       "</style>\n",
       "<table border=\"1\" class=\"dataframe\">\n",
       "  <thead>\n",
       "    <tr style=\"text-align: right;\">\n",
       "      <th></th>\n",
       "      <th>id</th>\n",
       "      <th>amount_tsh</th>\n",
       "      <th>date_recorded</th>\n",
       "      <th>funder</th>\n",
       "      <th>gps_height</th>\n",
       "      <th>installer</th>\n",
       "      <th>longitude</th>\n",
       "      <th>latitude</th>\n",
       "      <th>wpt_name</th>\n",
       "      <th>num_private</th>\n",
       "      <th>basin</th>\n",
       "      <th>subvillage</th>\n",
       "      <th>region</th>\n",
       "      <th>region_code</th>\n",
       "      <th>district_code</th>\n",
       "      <th>lga</th>\n",
       "      <th>ward</th>\n",
       "      <th>population</th>\n",
       "      <th>public_meeting</th>\n",
       "      <th>recorded_by</th>\n",
       "      <th>scheme_management</th>\n",
       "      <th>scheme_name</th>\n",
       "      <th>permit</th>\n",
       "      <th>construction_year</th>\n",
       "      <th>extraction_type</th>\n",
       "      <th>extraction_type_group</th>\n",
       "      <th>extraction_type_class</th>\n",
       "      <th>management</th>\n",
       "      <th>management_group</th>\n",
       "      <th>payment</th>\n",
       "      <th>payment_type</th>\n",
       "      <th>water_quality</th>\n",
       "      <th>quality_group</th>\n",
       "      <th>quantity</th>\n",
       "      <th>quantity_group</th>\n",
       "      <th>source</th>\n",
       "      <th>source_type</th>\n",
       "      <th>source_class</th>\n",
       "      <th>waterpoint_type</th>\n",
       "      <th>waterpoint_type_group</th>\n",
       "      <th>status_group</th>\n",
       "    </tr>\n",
       "  </thead>\n",
       "  <tbody>\n",
       "    <tr>\n",
       "      <th>0</th>\n",
       "      <td>69572</td>\n",
       "      <td>6000.0</td>\n",
       "      <td>2011-03-14</td>\n",
       "      <td>Roman</td>\n",
       "      <td>1390</td>\n",
       "      <td>Roman</td>\n",
       "      <td>34.938093</td>\n",
       "      <td>-9.856322</td>\n",
       "      <td>none</td>\n",
       "      <td>0</td>\n",
       "      <td>Lake Nyasa</td>\n",
       "      <td>Mnyusi B</td>\n",
       "      <td>Iringa</td>\n",
       "      <td>11</td>\n",
       "      <td>5</td>\n",
       "      <td>Ludewa</td>\n",
       "      <td>Mundindi</td>\n",
       "      <td>109</td>\n",
       "      <td>True</td>\n",
       "      <td>GeoData Consultants Ltd</td>\n",
       "      <td>VWC</td>\n",
       "      <td>Roman</td>\n",
       "      <td>False</td>\n",
       "      <td>1999</td>\n",
       "      <td>gravity</td>\n",
       "      <td>gravity</td>\n",
       "      <td>gravity</td>\n",
       "      <td>vwc</td>\n",
       "      <td>user-group</td>\n",
       "      <td>pay annually</td>\n",
       "      <td>annually</td>\n",
       "      <td>soft</td>\n",
       "      <td>good</td>\n",
       "      <td>enough</td>\n",
       "      <td>enough</td>\n",
       "      <td>spring</td>\n",
       "      <td>spring</td>\n",
       "      <td>groundwater</td>\n",
       "      <td>communal standpipe</td>\n",
       "      <td>communal standpipe</td>\n",
       "      <td>functional</td>\n",
       "    </tr>\n",
       "    <tr>\n",
       "      <th>1</th>\n",
       "      <td>8776</td>\n",
       "      <td>0.0</td>\n",
       "      <td>2013-03-06</td>\n",
       "      <td>Grumeti</td>\n",
       "      <td>1399</td>\n",
       "      <td>GRUMETI</td>\n",
       "      <td>34.698766</td>\n",
       "      <td>-2.147466</td>\n",
       "      <td>Zahanati</td>\n",
       "      <td>0</td>\n",
       "      <td>Lake Victoria</td>\n",
       "      <td>Nyamara</td>\n",
       "      <td>Mara</td>\n",
       "      <td>20</td>\n",
       "      <td>2</td>\n",
       "      <td>Serengeti</td>\n",
       "      <td>Natta</td>\n",
       "      <td>280</td>\n",
       "      <td>NaN</td>\n",
       "      <td>GeoData Consultants Ltd</td>\n",
       "      <td>Other</td>\n",
       "      <td>NaN</td>\n",
       "      <td>True</td>\n",
       "      <td>2010</td>\n",
       "      <td>gravity</td>\n",
       "      <td>gravity</td>\n",
       "      <td>gravity</td>\n",
       "      <td>wug</td>\n",
       "      <td>user-group</td>\n",
       "      <td>never pay</td>\n",
       "      <td>never pay</td>\n",
       "      <td>soft</td>\n",
       "      <td>good</td>\n",
       "      <td>insufficient</td>\n",
       "      <td>insufficient</td>\n",
       "      <td>rainwater harvesting</td>\n",
       "      <td>rainwater harvesting</td>\n",
       "      <td>surface</td>\n",
       "      <td>communal standpipe</td>\n",
       "      <td>communal standpipe</td>\n",
       "      <td>functional</td>\n",
       "    </tr>\n",
       "    <tr>\n",
       "      <th>2</th>\n",
       "      <td>34310</td>\n",
       "      <td>25.0</td>\n",
       "      <td>2013-02-25</td>\n",
       "      <td>Lottery Club</td>\n",
       "      <td>686</td>\n",
       "      <td>World vision</td>\n",
       "      <td>37.460664</td>\n",
       "      <td>-3.821329</td>\n",
       "      <td>Kwa Mahundi</td>\n",
       "      <td>0</td>\n",
       "      <td>Pangani</td>\n",
       "      <td>Majengo</td>\n",
       "      <td>Manyara</td>\n",
       "      <td>21</td>\n",
       "      <td>4</td>\n",
       "      <td>Simanjiro</td>\n",
       "      <td>Ngorika</td>\n",
       "      <td>250</td>\n",
       "      <td>True</td>\n",
       "      <td>GeoData Consultants Ltd</td>\n",
       "      <td>VWC</td>\n",
       "      <td>Nyumba ya mungu pipe scheme</td>\n",
       "      <td>True</td>\n",
       "      <td>2009</td>\n",
       "      <td>gravity</td>\n",
       "      <td>gravity</td>\n",
       "      <td>gravity</td>\n",
       "      <td>vwc</td>\n",
       "      <td>user-group</td>\n",
       "      <td>pay per bucket</td>\n",
       "      <td>per bucket</td>\n",
       "      <td>soft</td>\n",
       "      <td>good</td>\n",
       "      <td>enough</td>\n",
       "      <td>enough</td>\n",
       "      <td>dam</td>\n",
       "      <td>dam</td>\n",
       "      <td>surface</td>\n",
       "      <td>communal standpipe multiple</td>\n",
       "      <td>communal standpipe</td>\n",
       "      <td>functional</td>\n",
       "    </tr>\n",
       "    <tr>\n",
       "      <th>3</th>\n",
       "      <td>67743</td>\n",
       "      <td>0.0</td>\n",
       "      <td>2013-01-28</td>\n",
       "      <td>Unicef</td>\n",
       "      <td>263</td>\n",
       "      <td>UNICEF</td>\n",
       "      <td>38.486161</td>\n",
       "      <td>-11.155298</td>\n",
       "      <td>Zahanati Ya Nanyumbu</td>\n",
       "      <td>0</td>\n",
       "      <td>Ruvuma / Southern Coast</td>\n",
       "      <td>Mahakamani</td>\n",
       "      <td>Mtwara</td>\n",
       "      <td>90</td>\n",
       "      <td>63</td>\n",
       "      <td>Nanyumbu</td>\n",
       "      <td>Nanyumbu</td>\n",
       "      <td>58</td>\n",
       "      <td>True</td>\n",
       "      <td>GeoData Consultants Ltd</td>\n",
       "      <td>VWC</td>\n",
       "      <td>NaN</td>\n",
       "      <td>True</td>\n",
       "      <td>1986</td>\n",
       "      <td>submersible</td>\n",
       "      <td>submersible</td>\n",
       "      <td>submersible</td>\n",
       "      <td>vwc</td>\n",
       "      <td>user-group</td>\n",
       "      <td>never pay</td>\n",
       "      <td>never pay</td>\n",
       "      <td>soft</td>\n",
       "      <td>good</td>\n",
       "      <td>dry</td>\n",
       "      <td>dry</td>\n",
       "      <td>machine dbh</td>\n",
       "      <td>borehole</td>\n",
       "      <td>groundwater</td>\n",
       "      <td>communal standpipe multiple</td>\n",
       "      <td>communal standpipe</td>\n",
       "      <td>non functional</td>\n",
       "    </tr>\n",
       "    <tr>\n",
       "      <th>4</th>\n",
       "      <td>19728</td>\n",
       "      <td>0.0</td>\n",
       "      <td>2011-07-13</td>\n",
       "      <td>Action In A</td>\n",
       "      <td>0</td>\n",
       "      <td>Artisan</td>\n",
       "      <td>31.130847</td>\n",
       "      <td>-1.825359</td>\n",
       "      <td>Shuleni</td>\n",
       "      <td>0</td>\n",
       "      <td>Lake Victoria</td>\n",
       "      <td>Kyanyamisa</td>\n",
       "      <td>Kagera</td>\n",
       "      <td>18</td>\n",
       "      <td>1</td>\n",
       "      <td>Karagwe</td>\n",
       "      <td>Nyakasimbi</td>\n",
       "      <td>0</td>\n",
       "      <td>True</td>\n",
       "      <td>GeoData Consultants Ltd</td>\n",
       "      <td>NaN</td>\n",
       "      <td>NaN</td>\n",
       "      <td>True</td>\n",
       "      <td>0</td>\n",
       "      <td>gravity</td>\n",
       "      <td>gravity</td>\n",
       "      <td>gravity</td>\n",
       "      <td>other</td>\n",
       "      <td>other</td>\n",
       "      <td>never pay</td>\n",
       "      <td>never pay</td>\n",
       "      <td>soft</td>\n",
       "      <td>good</td>\n",
       "      <td>seasonal</td>\n",
       "      <td>seasonal</td>\n",
       "      <td>rainwater harvesting</td>\n",
       "      <td>rainwater harvesting</td>\n",
       "      <td>surface</td>\n",
       "      <td>communal standpipe</td>\n",
       "      <td>communal standpipe</td>\n",
       "      <td>functional</td>\n",
       "    </tr>\n",
       "  </tbody>\n",
       "</table>\n",
       "</div>"
      ],
      "text/plain": [
       "      id  amount_tsh date_recorded        funder  gps_height     installer  \\\n",
       "0  69572      6000.0    2011-03-14         Roman        1390         Roman   \n",
       "1   8776         0.0    2013-03-06       Grumeti        1399       GRUMETI   \n",
       "2  34310        25.0    2013-02-25  Lottery Club         686  World vision   \n",
       "3  67743         0.0    2013-01-28        Unicef         263        UNICEF   \n",
       "4  19728         0.0    2011-07-13   Action In A           0       Artisan   \n",
       "\n",
       "   longitude   latitude              wpt_name  num_private  \\\n",
       "0  34.938093  -9.856322                  none            0   \n",
       "1  34.698766  -2.147466              Zahanati            0   \n",
       "2  37.460664  -3.821329           Kwa Mahundi            0   \n",
       "3  38.486161 -11.155298  Zahanati Ya Nanyumbu            0   \n",
       "4  31.130847  -1.825359               Shuleni            0   \n",
       "\n",
       "                     basin  subvillage   region  region_code  district_code  \\\n",
       "0               Lake Nyasa    Mnyusi B   Iringa           11              5   \n",
       "1            Lake Victoria     Nyamara     Mara           20              2   \n",
       "2                  Pangani     Majengo  Manyara           21              4   \n",
       "3  Ruvuma / Southern Coast  Mahakamani   Mtwara           90             63   \n",
       "4            Lake Victoria  Kyanyamisa   Kagera           18              1   \n",
       "\n",
       "         lga        ward  population public_meeting              recorded_by  \\\n",
       "0     Ludewa    Mundindi         109           True  GeoData Consultants Ltd   \n",
       "1  Serengeti       Natta         280            NaN  GeoData Consultants Ltd   \n",
       "2  Simanjiro     Ngorika         250           True  GeoData Consultants Ltd   \n",
       "3   Nanyumbu    Nanyumbu          58           True  GeoData Consultants Ltd   \n",
       "4    Karagwe  Nyakasimbi           0           True  GeoData Consultants Ltd   \n",
       "\n",
       "  scheme_management                  scheme_name permit  construction_year  \\\n",
       "0               VWC                        Roman  False               1999   \n",
       "1             Other                          NaN   True               2010   \n",
       "2               VWC  Nyumba ya mungu pipe scheme   True               2009   \n",
       "3               VWC                          NaN   True               1986   \n",
       "4               NaN                          NaN   True                  0   \n",
       "\n",
       "  extraction_type extraction_type_group extraction_type_class management  \\\n",
       "0         gravity               gravity               gravity        vwc   \n",
       "1         gravity               gravity               gravity        wug   \n",
       "2         gravity               gravity               gravity        vwc   \n",
       "3     submersible           submersible           submersible        vwc   \n",
       "4         gravity               gravity               gravity      other   \n",
       "\n",
       "  management_group         payment payment_type water_quality quality_group  \\\n",
       "0       user-group    pay annually     annually          soft          good   \n",
       "1       user-group       never pay    never pay          soft          good   \n",
       "2       user-group  pay per bucket   per bucket          soft          good   \n",
       "3       user-group       never pay    never pay          soft          good   \n",
       "4            other       never pay    never pay          soft          good   \n",
       "\n",
       "       quantity quantity_group                source           source_type  \\\n",
       "0        enough         enough                spring                spring   \n",
       "1  insufficient   insufficient  rainwater harvesting  rainwater harvesting   \n",
       "2        enough         enough                   dam                   dam   \n",
       "3           dry            dry           machine dbh              borehole   \n",
       "4      seasonal       seasonal  rainwater harvesting  rainwater harvesting   \n",
       "\n",
       "  source_class              waterpoint_type waterpoint_type_group  \\\n",
       "0  groundwater           communal standpipe    communal standpipe   \n",
       "1      surface           communal standpipe    communal standpipe   \n",
       "2      surface  communal standpipe multiple    communal standpipe   \n",
       "3  groundwater  communal standpipe multiple    communal standpipe   \n",
       "4      surface           communal standpipe    communal standpipe   \n",
       "\n",
       "     status_group  \n",
       "0      functional  \n",
       "1      functional  \n",
       "2      functional  \n",
       "3  non functional  \n",
       "4      functional  "
      ]
     },
     "execution_count": 38,
     "metadata": {},
     "output_type": "execute_result"
    }
   ],
   "source": [
    "pd.set_option('display.max_columns', None)\n",
    "df.head()"
   ]
  },
  {
   "cell_type": "markdown",
   "metadata": {},
   "source": [
    "## Bulk Analysis on Features\n",
    "\n",
    "For this specific analysis each feature was quickly looked at and compared to other features. The purpose of this analysis is to remove redundent columns, columns with large amounts of missing values, columns that have little value to predicting our target, and to decreace the datas high dimentionality. This analysis was done in part by using SelectKBest using f_regression for statistical significance comparison.\n",
    "\n",
    "### Extraction Type\n",
    "\n",
    "**Similar Features:** extraction_type, extraction_type_group, extraction_type_class\n",
    "\n",
    "All features closely describing the same thing. extraction_type and extraction_type_group have a lot of extra values with low value counts. extraction_type_class is the most well balanced and cleanest feature\n",
    "\n",
    "Dropping Features: extraction_type, extraction_type_group\n",
    "\n",
    "### Waterpoint Type\n",
    "\n",
    "**Similar Features:** waterpoint_type, waterpoint_type_group\n",
    "\n",
    "Both features are very similare when comparing value_counts the diffence is waterpoint_type takes 6103 values from the communal standpip and calls them communal standpipe multiple. which given the unbalanced value count that communal standpipe already has could provid for better modeling predictions. \n",
    "\n",
    "Dropping Features: waterpoint_type_group\n",
    "\n",
    "### Source\n",
    "\n",
    "**Similar Features:** source, source_type, source_class\n",
    "\n",
    "we are trying to generalize and reduce dimentionality. even thought the skbest gave source a slightly higher importance using source_class will add with dimentionality reduction. arguably each kind of model we use can handel dimentions and diffrent types of encoders in diffrent ways. One could quite honestly take the time to calculate every method of processing data with every type of encoder with every type of model and do every type of statistical and baysien test. However that takes significat amounts of time and we have to prioratize given what the goal is.\n",
    "\n",
    "Dropping Features: source, source_type\n",
    "\n",
    "### Quanity\n",
    "\n",
    "**Similar Features:** quantity, quantity_group\n",
    "\n",
    "both features have the exact same value counts\n",
    "\n",
    "Dropping Features: quanity_group\n",
    "\n",
    "### Water Quality\n",
    "\n",
    "**Similar Features:** water_quality, quality_group\n",
    "\n",
    "quality group prefermed slightly better in feature imortance also has less categories to work with. both are mostly identical\n",
    "\n",
    "Dropping Features: water_quality\n",
    "\n",
    "### Payment\n",
    "\n",
    "**Similar Features:** payment, payment_type\n",
    "\n",
    "both features are identicle \n",
    "Dropping Features: payment_type\n",
    "\n",
    "### Managment\n",
    "\n",
    "**Similar Features:** management, management_group\n",
    "\n",
    "should combine unkown with other\n",
    "\n",
    "both are similar but management_group is much more general both are inbalanced...\n",
    "\n",
    "Dropping Features: management\n",
    "\n",
    "### Region\n",
    "\n",
    "**Similar Features:** region, region_code, district_code\n",
    "\n",
    "district code is too unbalacned, region code preformed the best in SKbest.\n",
    "\n",
    "Dropping Features: region, distric_code\n",
    "\n",
    "### Num_private\n",
    "\n",
    "**Similar Features:** num_private\n",
    "\n",
    "majorit of values is just 0.\n",
    "\n",
    "Dropping Features: Num_private\n",
    "\n",
    "### wpt_name\n",
    "\n",
    "**Similar Features:** wpt_name\n",
    "\n",
    "has 37,400 diffrent categories the highest is labeld as none and is only 3563 observations\n",
    "\n",
    "Dropping Features: wpt_name\n",
    "\n",
    "### lga\tward\n",
    "\n",
    "**Similar Features:** lga, ward\n",
    "\n",
    "ward has 2092 diffrent categories lga has 125. lga will be generilze better ward has a lot of 1 value count categries\n",
    "\n",
    "Dropping Features: ward\n",
    "\n",
    "### recorded_by\n",
    "\n",
    "**Similar Features:** recorded_by\n",
    "\n",
    "its all the same entry. dropping...\n",
    "\n",
    "Dropping Features: recorded_by\n",
    "\n",
    "### basin\n",
    "\n",
    "**Similar Features:** basin\n",
    "\n",
    "well balanced. lots of 9 catagories\n",
    "\n",
    "### There were also columns with missing values that were looked at more deeply\n",
    "\n",
    "funder, installer, subvillage, public_meeting, scheme_management, permit\n",
    "\n",
    "funder, installer, subvillage, all had too high of value counts for what we work looking for. scheme_management and scheme_name are both missing too many values and are similar the the other managment features.\n",
    "\n",
    "It is work saving public_meeting and permit\n",
    "\n",
    "Dropping Features: funder, installer, subvillage, scheme_management, scheme_name"
   ]
  },
  {
   "cell_type": "markdown",
   "metadata": {},
   "source": [
    "### Dropping columns from inital feature analysis"
   ]
  },
  {
   "cell_type": "code",
   "execution_count": 39,
   "metadata": {},
   "outputs": [],
   "source": [
    "df.drop(['extraction_type', 'extraction_type_group'], axis=1, inplace=True)\n",
    "df.drop('waterpoint_type_group', axis=1, inplace=True)\n",
    "df.drop(['source', 'source_type'], axis=1, inplace=True)\n",
    "df.drop('quantity_group', axis=1, inplace=True)\n",
    "df.drop('water_quality', axis=1, inplace=True)\n",
    "df.drop('payment_type', axis=1, inplace=True)\n",
    "df.drop('management', axis=1, inplace=True)\n",
    "df.drop(['region', 'district_code'], axis=1, inplace=True)\n",
    "df.drop('num_private', axis=1, inplace=True)\n",
    "df.drop('wpt_name', axis=1, inplace=True)\n",
    "df.drop('ward', axis=1, inplace=True)\n",
    "df.drop('recorded_by', axis=1, inplace=True)\n",
    "\n",
    "# initial Nan value features\n",
    "df.drop(['funder'], axis=1, inplace=True)\n",
    "df.drop(['installer'], axis=1, inplace=True)\n",
    "df.drop(['subvillage'], axis=1, inplace=True)\n",
    "df.drop(['scheme_management'], axis=1, inplace=True)\n",
    "df.drop(['scheme_name'], axis=1, inplace=True)"
   ]
  },
  {
   "cell_type": "markdown",
   "metadata": {},
   "source": [
    "### Droping columns with majority nan values\n",
    "\n",
    "- dropping scheme_name due to majority nans\n",
    "- dropping columns instead of rows has a huge effect on the top performing features\n",
    "- could still be values equivilant to nans hidden in other columns\n",
    "\n",
    "on a timelimit. going to drop columns with missing values. we potentially lose valuable information but its better then dropping rows since that would result in the loss of 30,000 observations also we already have a large dimentionality problem meaning we already have too many features for the kind of general models we are hoping to train with this dataset"
   ]
  },
  {
   "cell_type": "markdown",
   "metadata": {},
   "source": [
    "### Observing the Nan values in the dataset"
   ]
  },
  {
   "cell_type": "markdown",
   "metadata": {},
   "source": [
    "### Indepth look for nan equivilant values in remaining dataset features\n",
    "\n",
    "- looking at value counts of each feature.\n",
    "- looking for 0 values, unknowns, others\n",
    "\n",
    "- amount_tsh - 41,639 observations are labeled as zero. zero could be a mix of water pumps that actually don't have water or unkown (highlyinbalanced)\n",
    "- date_recorded - seems fine\n",
    "- gps_height - 20438 ovservations are labled as zero (highly inbalanced)\n",
    "- longitude - 1812 observatoins labed as zero (highly invalanced)\n",
    "- latitude - 1812 obersations labed as -2.000000e-08 (highly inbalacned)\n",
    "- basin - no missing values (categorical 9 cats)\n",
    "- region_code - no missing values \n",
    "- lga - no missing values (categorical 125 cats)\n",
    "- population - 21381 obsevations labeld as 0 (pretty highly inbalanced)\n",
    "- public_meeting - 3334 observations Nan (categorical 2 cats)\n",
    "- permit - 3056 observations Nan (categorical 2 cats)\n",
    "- construction_year - 20709 labed as 0 (higly inbalanced)\n",
    "- extraction_type_class - 6430 labeld as other (categorical 7 cats)\n",
    "- managment_group - 943 labeld as other, 561 labeled as unknown (categorical 5 cats)\n",
    "- payment - 1054 labeled as other, 8157 labeld as unknown (categorical 7 cats)\n",
    "- quality_group - 1876 labeld as unknown (categorical 6 cats)\n",
    "- quantity - 789 labeled as unknown (categorical 5 cats)\n",
    "- source_class - 278 labeld as unknown (categorical 3 cats)\n",
    "- waterpoint_type - 6380 labeld as other (categorical 7 cats)\n",
    "- status_group - no missing values\n",
    "\n",
    "not goingto claim other as a missing value\n",
    "\n",
    "using knnimpute for filling in numeric data\n",
    "use iterativeimpute for cat data\n",
    "\n",
    "simpleinpute\n",
    "knnimpute\n",
    "iterativeimpute"
   ]
  },
  {
   "cell_type": "markdown",
   "metadata": {},
   "source": [
    "**Revealing the Nan values**"
   ]
  },
  {
   "cell_type": "code",
   "execution_count": 40,
   "metadata": {},
   "outputs": [],
   "source": [
    "# revealing the nan values\n",
    "df.replace(0, np.nan, inplace=True)\n",
    "df.replace(-2.000000e-08, np.nan, inplace=True)\n",
    "df.replace('unknown', np.nan, inplace=True)"
   ]
  },
  {
   "cell_type": "markdown",
   "metadata": {},
   "source": [
    "**Graving the Nan Values**"
   ]
  },
  {
   "cell_type": "code",
   "execution_count": 41,
   "metadata": {},
   "outputs": [
    {
     "data": {
      "text/plain": [
       "<matplotlib.axes._subplots.AxesSubplot at 0x1b396e7c208>"
      ]
     },
     "execution_count": 41,
     "metadata": {},
     "output_type": "execute_result"
    },
    {
     "data": {
      "image/png": "[encoded data removed]",
      "text/plain": [
       "<Figure size 1800x720 with 2 Axes>"
      ]
     },
     "metadata": {
      "needs_background": "light"
     },
     "output_type": "display_data"
    }
   ],
   "source": [
    "import missingno as msno\n",
    "msno.matrix(df)"
   ]
  },
  {
   "cell_type": "markdown",
   "metadata": {},
   "source": [
    "### Encoding and Imputing the variables"
   ]
  },
  {
   "cell_type": "markdown",
   "metadata": {},
   "source": [
    "**Encoding numeric features with KNNImputer**"
   ]
  },
  {
   "cell_type": "code",
   "execution_count": null,
   "metadata": {},
   "outputs": [],
   "source": [
    "numeric_features = ['amount_tsh', 'gps_height', 'longitude', 'latitude', \n",
    "                    'region_code', 'population', 'public_meeting', 'permit', 'construction_year']\n",
    "\n",
    "X_numeric = df[numeric_features]\n",
    "\n",
    "imputer = KNNImputer(n_neighbors=2)\n",
    "X_numeric = imputer.fit_transform(X_numeric)\n",
    "\n",
    "X_numeric = pd.DataFrame(X_numeric, columns=numeric_features)"
   ]
  },
  {
   "cell_type": "code",
   "execution_count": null,
   "metadata": {},
   "outputs": [],
   "source": [
    "# Reconstructing the origianl dataframe\n",
    "df['amount_tsh'] = X_numeric['amount_tsh']\n",
    "df['gps_height'] = X_numeric['gps_height']\n",
    "df['longitude'] = X_numeric['longitude']\n",
    "df['latitude'] = X_numeric['latitude']\n",
    "df['region_code'] = X_numeric['region_code']\n",
    "df['population'] = X_numeric['population']\n",
    "df['public_meeting'] = X_numeric['public_meeting']\n",
    "df['permit'] = X_numeric['permit']\n",
    "df['construction_year'] = X_numeric['construction_year']"
   ]
  },
  {
   "cell_type": "markdown",
   "metadata": {},
   "source": [
    "**Encoding and Imputing categorical features with iterativeimputer**\n",
    "\n",
    "- Using a label encoding method to deal with nan values so that the categorical features can be interativeimputed"
   ]
  },
  {
   "cell_type": "code",
   "execution_count": 43,
   "metadata": {},
   "outputs": [],
   "source": [
    "categorical_features = ['basin', 'lga', 'extraction_type_class', 'management_group', \n",
    "                        'payment', 'quality_group', 'quantity', 'source_class', 'waterpoint_type']\n",
    "\n",
    "# Label encoding with a trick to keep nan values\n",
    "df[categorical_features] = df[categorical_features].apply(lambda series: pd.Series(\n",
    "        LabelEncoder().fit_transform(series[series.notnull()]),\n",
    "        index=series[series.notnull()].index\n",
    "        ))\n",
    "\n",
    "X_categorical = df[categorical_features]\n",
    "\n",
    "imputer = IterativeImputer()\n",
    "X_categorical = imputer.fit_transform(X_categorical)\n",
    "X_categorical = pd.DataFrame(X_categorical, columns=categorical_features)"
   ]
  },
  {
   "cell_type": "code",
   "execution_count": null,
   "metadata": {},
   "outputs": [],
   "source": [
    "df['basin'] = X_categorical['basin']\n",
    "df['lga'] = X_categorical['lga']\n",
    "df['extraction_type_class'] = X_categorical['extraction_type_class']\n",
    "df['management_group'] = X_categorical['management_group']\n",
    "df['payment'] = X_categorical['payment']\n",
    "df['quality_group'] = X_categorical['quality_group']\n",
    "df['quantity'] = X_categorical['quantity']\n",
    "df['source_class'] = X_categorical['source_class']\n",
    "df['waterpoint_type'] = X_categorical['waterpoint_type']"
   ]
  },
  {
   "cell_type": "markdown",
   "metadata": {},
   "source": [
    "### Datetime feature engineering\n",
    "\n",
    "- Encoding cyclical continuous features\n",
    "- using sin/cosine facet\n",
    "- sin/cosine bad for decsion trees since the features will be treated as independent\n",
    "\n",
    "don't drop features untill dealing with modeling. example if doing logistic regression haveing the sin and cosine features coulb be usfull. but with randomforest given the fact the the features will be treated indepentenly it might be less usful.\n",
    "\n",
    "notes:\n",
    "\n",
    "df[\"cos_x\"] = np.cos(df[\"x_norm\"])\n",
    "df[\"sin_x\"] = np.sin(df[\"x_norm\"])"
   ]
  },
  {
   "cell_type": "markdown",
   "metadata": {},
   "source": [
    "**Modifying date_recorded feature**"
   ]
  },
  {
   "cell_type": "code",
   "execution_count": null,
   "metadata": {},
   "outputs": [],
   "source": [
    "df['date_recorded'] = pd.to_datetime(df['date_recorded'], infer_datetime_format=True)\n",
    "df['year_recorded'] = df['date_recorded'].dt.year\n",
    "df['month_rec'] = df['date_recorded'].dt.month\n",
    "df['day_rec'] = df['date_recorded'].dt.day"
   ]
  },
  {
   "cell_type": "markdown",
   "metadata": {},
   "source": [
    "**Normalization and cos/sin feature of month and day**"
   ]
  },
  {
   "cell_type": "code",
   "execution_count": null,
   "metadata": {},
   "outputs": [],
   "source": [
    "days_in_a_month = 31 # can potentially be done better (28, 30, 31)\n",
    "months_in_a_year = 12\n",
    "\n",
    "# Normalize\n",
    "df['norm_day'] = 2 * math.pi * df[\"day_rec\"] / df[\"day_rec\"].max()\n",
    "df['norm_month'] = 2 * math.pi * df['month_rec'] / df['month_rec'].max()\n",
    "\n",
    "# Sin\n",
    "df['sin_day'] = np.sin((df.day_rec-1)*(2*np.pi/days_in_a_month))\n",
    "df['sin_month'] = np.sin((df.month_rec-1)*(2*np.pi/months_in_a_year))\n",
    "\n",
    "# Cosine\n",
    "df['cos_day'] = np.cos((df.day_rec-1)*(2*np.pi/days_in_a_month))\n",
    "df['cos_month'] = np.cos((df.month_rec-1)*(2*np.pi/months_in_a_year))"
   ]
  },
  {
   "cell_type": "markdown",
   "metadata": {},
   "source": [
    "**Plotting the new cyclical relationships of day and month**"
   ]
  },
  {
   "cell_type": "code",
   "execution_count": null,
   "metadata": {},
   "outputs": [
    {
     "data": {
      "application/vnd.plotly.v1+json": {
       "config": {
        "plotlyServerURL": "https://plot.ly"
       },
       "data": [
        {
         "name": "Sin",
         "type": "scatter",
         "x": [
          0.2026833970057931,
          0.6080501910173793,
          0.6080501910173793,
          0.6080501910173793,
          0.6080501910173793,
          0.6080501910173793,
          0.6080501910173793,
          0.8107335880231724,
          0.8107335880231724,
          0.8107335880231724,
          1.0134169850289656,
          1.0134169850289656,
          1.0134169850289656,
          1.0134169850289656,
          1.2161003820347587,
          1.2161003820347587,
          1.2161003820347587,
          1.2161003820347587,
          1.4187837790405518,
          1.4187837790405518,
          1.6214671760463448,
          1.6214671760463448,
          1.6214671760463448,
          1.6214671760463448,
          1.824150573052138,
          1.824150573052138,
          2.026833970057931,
          2.229517367063724,
          2.229517367063724,
          2.229517367063724,
          2.4322007640695174,
          2.4322007640695174,
          2.6348841610753104,
          2.6348841610753104,
          2.6348841610753104,
          2.6348841610753104,
          2.8375675580811035,
          2.8375675580811035,
          3.040250955086896,
          3.040250955086896,
          3.040250955086896,
          3.040250955086896,
          3.040250955086896,
          3.2429343520926897,
          3.2429343520926897,
          3.445617749098483,
          3.445617749098483,
          3.445617749098483,
          3.445617749098483,
          3.445617749098483,
          3.445617749098483,
          3.648301146104276,
          3.648301146104276,
          3.850984543110069,
          3.850984543110069,
          3.850984543110069,
          3.850984543110069,
          3.850984543110069,
          3.850984543110069,
          3.850984543110069,
          4.053667940115862,
          4.053667940115862,
          4.053667940115862,
          4.2563513371216555,
          4.2563513371216555,
          4.2563513371216555,
          4.2563513371216555,
          4.2563513371216555,
          4.459034734127448,
          4.459034734127448,
          4.661718131133241,
          4.661718131133241,
          4.661718131133241,
          4.661718131133241,
          4.661718131133241,
          4.661718131133241,
          4.864401528139035,
          4.864401528139035,
          5.067084925144828,
          5.067084925144828,
          5.067084925144828,
          5.269768322150621,
          5.269768322150621,
          5.472451719156414,
          5.472451719156414,
          5.472451719156414,
          5.472451719156414,
          5.472451719156414,
          5.675135116162207,
          5.675135116162207,
          5.675135116162207,
          5.877818513168,
          5.877818513168,
          5.877818513168,
          6.080501910173792,
          6.080501910173792,
          6.080501910173792,
          6.080501910173792,
          6.080501910173792,
          6.283185307179586
         ],
         "xaxis": "x",
         "y": [
          0,
          0.39435585511331855,
          0.39435585511331855,
          0.39435585511331855,
          0.39435585511331855,
          0.39435585511331855,
          0.39435585511331855,
          0.5712682150947923,
          0.5712682150947923,
          0.5712682150947923,
          0.72479278722912,
          0.72479278722912,
          0.72479278722912,
          0.72479278722912,
          0.8486442574947509,
          0.8486442574947509,
          0.8486442574947509,
          0.8486442574947509,
          0.9377521321470804,
          0.9377521321470804,
          0.9884683243281114,
          0.9884683243281114,
          0.9884683243281114,
          0.9884683243281114,
          0.9987165071710528,
          0.9987165071710528,
          0.9680771188662043,
          0.8978045395707416,
          0.8978045395707416,
          0.8978045395707416,
          0.7907757369376985,
          0.7907757369376985,
          0.6513724827222223,
          0.6513724827222223,
          0.6513724827222223,
          0.6513724827222223,
          0.48530196253108104,
          0.48530196253108104,
          0.29936312297335804,
          0.29936312297335804,
          0.29936312297335804,
          0.29936312297335804,
          0.29936312297335804,
          0.10116832198743228,
          0.10116832198743228,
          -0.10116832198743204,
          -0.10116832198743204,
          -0.10116832198743204,
          -0.10116832198743204,
          -0.10116832198743204,
          -0.10116832198743204,
          -0.29936312297335776,
          -0.29936312297335776,
          -0.4853019625310808,
          -0.4853019625310808,
          -0.4853019625310808,
          -0.4853019625310808,
          -0.4853019625310808,
          -0.4853019625310808,
          -0.4853019625310808,
          -0.651372482722222,
          -0.651372482722222,
          -0.651372482722222,
          -0.7907757369376986,
          -0.7907757369376986,
          -0.7907757369376986,
          -0.7907757369376986,
          -0.7907757369376986,
          -0.8978045395707417,
          -0.8978045395707417,
          -0.9680771188662043,
          -0.9680771188662043,
          -0.9680771188662043,
          -0.9680771188662043,
          -0.9680771188662043,
          -0.9680771188662043,
          -0.9987165071710528,
          -0.9987165071710528,
          -0.9884683243281114,
          -0.9884683243281114,
          -0.9884683243281114,
          -0.9377521321470804,
          -0.9377521321470804,
          -0.8486442574947509,
          -0.8486442574947509,
          -0.8486442574947509,
          -0.8486442574947509,
          -0.8486442574947509,
          -0.72479278722912,
          -0.72479278722912,
          -0.72479278722912,
          -0.5712682150947924,
          -0.5712682150947924,
          -0.5712682150947924,
          -0.3943558551133187,
          -0.3943558551133187,
          -0.3943558551133187,
          -0.3943558551133187,
          -0.3943558551133187,
          -0.20129852008866028
         ],
         "yaxis": "y"
        },
        {
         "name": "Cosine",
         "type": "scatter",
         "x": [
          0.2026833970057931,
          0.6080501910173793,
          0.6080501910173793,
          0.6080501910173793,
          0.6080501910173793,
          0.6080501910173793,
          0.6080501910173793,
          0.8107335880231724,
          0.8107335880231724,
          0.8107335880231724,
          1.0134169850289656,
          1.0134169850289656,
          1.0134169850289656,
          1.0134169850289656,
          1.2161003820347587,
          1.2161003820347587,
          1.2161003820347587,
          1.2161003820347587,
          1.4187837790405518,
          1.4187837790405518,
          1.6214671760463448,
          1.6214671760463448,
          1.6214671760463448,
          1.6214671760463448,
          1.824150573052138,
          1.824150573052138,
          2.026833970057931,
          2.229517367063724,
          2.229517367063724,
          2.229517367063724,
          2.4322007640695174,
          2.4322007640695174,
          2.6348841610753104,
          2.6348841610753104,
          2.6348841610753104,
          2.6348841610753104,
          2.8375675580811035,
          2.8375675580811035,
          3.040250955086896,
          3.040250955086896,
          3.040250955086896,
          3.040250955086896,
          3.040250955086896,
          3.2429343520926897,
          3.2429343520926897,
          3.445617749098483,
          3.445617749098483,
          3.445617749098483,
          3.445617749098483,
          3.445617749098483,
          3.445617749098483,
          3.648301146104276,
          3.648301146104276,
          3.850984543110069,
          3.850984543110069,
          3.850984543110069,
          3.850984543110069,
          3.850984543110069,
          3.850984543110069,
          3.850984543110069,
          4.053667940115862,
          4.053667940115862,
          4.053667940115862,
          4.2563513371216555,
          4.2563513371216555,
          4.2563513371216555,
          4.2563513371216555,
          4.2563513371216555,
          4.459034734127448,
          4.459034734127448,
          4.661718131133241,
          4.661718131133241,
          4.661718131133241,
          4.661718131133241,
          4.661718131133241,
          4.661718131133241,
          4.864401528139035,
          4.864401528139035,
          5.067084925144828,
          5.067084925144828,
          5.067084925144828,
          5.269768322150621,
          5.269768322150621,
          5.472451719156414,
          5.472451719156414,
          5.472451719156414,
          5.472451719156414,
          5.472451719156414,
          5.675135116162207,
          5.675135116162207,
          5.675135116162207,
          5.877818513168,
          5.877818513168,
          5.877818513168,
          6.080501910173792,
          6.080501910173792,
          6.080501910173792,
          6.080501910173792,
          6.080501910173792,
          6.283185307179586
         ],
         "xaxis": "x",
         "y": [
          1,
          0.9189578116202306,
          0.9189578116202306,
          0.9189578116202306,
          0.9189578116202306,
          0.9189578116202306,
          0.9189578116202306,
          0.8207634412072763,
          0.8207634412072763,
          0.8207634412072763,
          0.6889669190756866,
          0.6889669190756866,
          0.6889669190756866,
          0.6889669190756866,
          0.5289640103269624,
          0.5289640103269624,
          0.5289640103269624,
          0.5289640103269624,
          0.3473052528448203,
          0.3473052528448203,
          0.1514277775045767,
          0.1514277775045767,
          0.1514277775045767,
          0.1514277775045767,
          -0.05064916883871264,
          -0.05064916883871264,
          -0.2506525322587204,
          -0.4403941515576344,
          -0.4403941515576344,
          -0.4403941515576344,
          -0.6121059825476629,
          -0.6121059825476629,
          -0.758758122692791,
          -0.758758122692791,
          -0.758758122692791,
          -0.758758122692791,
          -0.8743466161445821,
          -0.8743466161445821,
          -0.9541392564000488,
          -0.9541392564000488,
          -0.9541392564000488,
          -0.9541392564000488,
          -0.9541392564000488,
          -0.9948693233918952,
          -0.9948693233918952,
          -0.9948693233918952,
          -0.9948693233918952,
          -0.9948693233918952,
          -0.9948693233918952,
          -0.9948693233918952,
          -0.9948693233918952,
          -0.9541392564000489,
          -0.9541392564000489,
          -0.8743466161445822,
          -0.8743466161445822,
          -0.8743466161445822,
          -0.8743466161445822,
          -0.8743466161445822,
          -0.8743466161445822,
          -0.8743466161445822,
          -0.7587581226927911,
          -0.7587581226927911,
          -0.7587581226927911,
          -0.6121059825476627,
          -0.6121059825476627,
          -0.6121059825476627,
          -0.6121059825476627,
          -0.6121059825476627,
          -0.44039415155763423,
          -0.44039415155763423,
          -0.2506525322587205,
          -0.2506525322587205,
          -0.2506525322587205,
          -0.2506525322587205,
          -0.2506525322587205,
          -0.2506525322587205,
          -0.05064916883871266,
          -0.05064916883871266,
          0.15142777750457667,
          0.15142777750457667,
          0.15142777750457667,
          0.3473052528448203,
          0.3473052528448203,
          0.5289640103269624,
          0.5289640103269624,
          0.5289640103269624,
          0.5289640103269624,
          0.5289640103269624,
          0.6889669190756865,
          0.6889669190756865,
          0.6889669190756865,
          0.8207634412072763,
          0.8207634412072763,
          0.8207634412072763,
          0.9189578116202306,
          0.9189578116202306,
          0.9189578116202306,
          0.9189578116202306,
          0.9189578116202306,
          0.9795299412524945
         ],
         "yaxis": "y"
        },
        {
         "name": "Sin",
         "type": "scatter",
         "x": [
          0.5235987755982988,
          0.5235987755982988,
          0.5235987755982988,
          0.5235987755982988,
          0.5235987755982988,
          0.5235987755982988,
          0.5235987755982988,
          0.5235987755982988,
          0.5235987755982988,
          0.5235987755982988,
          0.5235987755982988,
          0.5235987755982988,
          0.5235987755982988,
          0.5235987755982988,
          1.0471975511965976,
          1.0471975511965976,
          1.0471975511965976,
          1.0471975511965976,
          1.0471975511965976,
          1.0471975511965976,
          1.0471975511965976,
          1.0471975511965976,
          1.0471975511965976,
          1.0471975511965976,
          1.0471975511965976,
          1.0471975511965976,
          1.0471975511965976,
          1.0471975511965976,
          1.0471975511965976,
          1.0471975511965976,
          1.0471975511965976,
          1.0471975511965976,
          1.0471975511965976,
          1.0471975511965976,
          1.0471975511965976,
          1.0471975511965976,
          1.0471975511965976,
          1.0471975511965976,
          1.0471975511965976,
          1.5707963267948966,
          1.5707963267948966,
          1.5707963267948966,
          1.5707963267948966,
          1.5707963267948966,
          1.5707963267948966,
          1.5707963267948966,
          1.5707963267948966,
          1.5707963267948966,
          1.5707963267948966,
          1.5707963267948966,
          1.5707963267948966,
          1.5707963267948966,
          1.5707963267948966,
          1.5707963267948966,
          1.5707963267948966,
          1.5707963267948966,
          1.5707963267948966,
          1.5707963267948966,
          1.5707963267948966,
          1.5707963267948966,
          1.5707963267948966,
          1.5707963267948966,
          1.5707963267948966,
          1.5707963267948966,
          1.5707963267948966,
          1.5707963267948966,
          1.5707963267948966,
          1.5707963267948966,
          1.5707963267948966,
          1.5707963267948966,
          2.0943951023931953,
          2.0943951023931953,
          2.0943951023931953,
          2.0943951023931953,
          2.0943951023931953,
          2.0943951023931953,
          2.0943951023931953,
          2.0943951023931953,
          3.141592653589793,
          3.665191429188092,
          3.665191429188092,
          3.665191429188092,
          3.665191429188092,
          3.665191429188092,
          3.665191429188092,
          3.665191429188092,
          3.665191429188092,
          3.665191429188092,
          4.1887902047863905,
          4.1887902047863905,
          4.1887902047863905,
          4.1887902047863905,
          5.235987755982989,
          5.235987755982989,
          5.235987755982989,
          5.235987755982989,
          5.235987755982989,
          5.235987755982989,
          5.235987755982989,
          6.283185307179586
         ],
         "xaxis": "x2",
         "y": [
          0,
          0,
          0,
          0,
          0,
          0,
          0,
          0,
          0,
          0,
          0,
          0,
          0,
          0,
          0.49999999999999994,
          0.49999999999999994,
          0.49999999999999994,
          0.49999999999999994,
          0.49999999999999994,
          0.49999999999999994,
          0.49999999999999994,
          0.49999999999999994,
          0.49999999999999994,
          0.49999999999999994,
          0.49999999999999994,
          0.49999999999999994,
          0.49999999999999994,
          0.49999999999999994,
          0.49999999999999994,
          0.49999999999999994,
          0.49999999999999994,
          0.49999999999999994,
          0.49999999999999994,
          0.49999999999999994,
          0.49999999999999994,
          0.49999999999999994,
          0.49999999999999994,
          0.49999999999999994,
          0.49999999999999994,
          0.8660254037844386,
          0.8660254037844386,
          0.8660254037844386,
          0.8660254037844386,
          0.8660254037844386,
          0.8660254037844386,
          0.8660254037844386,
          0.8660254037844386,
          0.8660254037844386,
          0.8660254037844386,
          0.8660254037844386,
          0.8660254037844386,
          0.8660254037844386,
          0.8660254037844386,
          0.8660254037844386,
          0.8660254037844386,
          0.8660254037844386,
          0.8660254037844386,
          0.8660254037844386,
          0.8660254037844386,
          0.8660254037844386,
          0.8660254037844386,
          0.8660254037844386,
          0.8660254037844386,
          0.8660254037844386,
          0.8660254037844386,
          0.8660254037844386,
          0.8660254037844386,
          0.8660254037844386,
          0.8660254037844386,
          0.8660254037844386,
          1,
          1,
          1,
          1,
          1,
          1,
          1,
          1,
          0.5000000000000003,
          1.2246467991473532e-16,
          1.2246467991473532e-16,
          1.2246467991473532e-16,
          1.2246467991473532e-16,
          1.2246467991473532e-16,
          1.2246467991473532e-16,
          1.2246467991473532e-16,
          1.2246467991473532e-16,
          1.2246467991473532e-16,
          -0.4999999999999997,
          -0.4999999999999997,
          -0.4999999999999997,
          -0.4999999999999997,
          -1,
          -1,
          -1,
          -1,
          -1,
          -1,
          -1,
          -0.5000000000000004
         ],
         "yaxis": "y2"
        },
        {
         "name": "Cosine",
         "type": "scatter",
         "x": [
          0.5235987755982988,
          0.5235987755982988,
          0.5235987755982988,
          0.5235987755982988,
          0.5235987755982988,
          0.5235987755982988,
          0.5235987755982988,
          0.5235987755982988,
          0.5235987755982988,
          0.5235987755982988,
          0.5235987755982988,
          0.5235987755982988,
          0.5235987755982988,
          0.5235987755982988,
          1.0471975511965976,
          1.0471975511965976,
          1.0471975511965976,
          1.0471975511965976,
          1.0471975511965976,
          1.0471975511965976,
          1.0471975511965976,
          1.0471975511965976,
          1.0471975511965976,
          1.0471975511965976,
          1.0471975511965976,
          1.0471975511965976,
          1.0471975511965976,
          1.0471975511965976,
          1.0471975511965976,
          1.0471975511965976,
          1.0471975511965976,
          1.0471975511965976,
          1.0471975511965976,
          1.0471975511965976,
          1.0471975511965976,
          1.0471975511965976,
          1.0471975511965976,
          1.0471975511965976,
          1.0471975511965976,
          1.5707963267948966,
          1.5707963267948966,
          1.5707963267948966,
          1.5707963267948966,
          1.5707963267948966,
          1.5707963267948966,
          1.5707963267948966,
          1.5707963267948966,
          1.5707963267948966,
          1.5707963267948966,
          1.5707963267948966,
          1.5707963267948966,
          1.5707963267948966,
          1.5707963267948966,
          1.5707963267948966,
          1.5707963267948966,
          1.5707963267948966,
          1.5707963267948966,
          1.5707963267948966,
          1.5707963267948966,
          1.5707963267948966,
          1.5707963267948966,
          1.5707963267948966,
          1.5707963267948966,
          1.5707963267948966,
          1.5707963267948966,
          1.5707963267948966,
          1.5707963267948966,
          1.5707963267948966,
          1.5707963267948966,
          1.5707963267948966,
          2.0943951023931953,
          2.0943951023931953,
          2.0943951023931953,
          2.0943951023931953,
          2.0943951023931953,
          2.0943951023931953,
          2.0943951023931953,
          2.0943951023931953,
          3.141592653589793,
          3.665191429188092,
          3.665191429188092,
          3.665191429188092,
          3.665191429188092,
          3.665191429188092,
          3.665191429188092,
          3.665191429188092,
          3.665191429188092,
          3.665191429188092,
          4.1887902047863905,
          4.1887902047863905,
          4.1887902047863905,
          4.1887902047863905,
          5.235987755982989,
          5.235987755982989,
          5.235987755982989,
          5.235987755982989,
          5.235987755982989,
          5.235987755982989,
          5.235987755982989,
          6.283185307179586
         ],
         "xaxis": "x2",
         "y": [
          1,
          1,
          1,
          1,
          1,
          1,
          1,
          1,
          1,
          1,
          1,
          1,
          1,
          1,
          0.8660254037844387,
          0.8660254037844387,
          0.8660254037844387,
          0.8660254037844387,
          0.8660254037844387,
          0.8660254037844387,
          0.8660254037844387,
          0.8660254037844387,
          0.8660254037844387,
          0.8660254037844387,
          0.8660254037844387,
          0.8660254037844387,
          0.8660254037844387,
          0.8660254037844387,
          0.8660254037844387,
          0.8660254037844387,
          0.8660254037844387,
          0.8660254037844387,
          0.8660254037844387,
          0.8660254037844387,
          0.8660254037844387,
          0.8660254037844387,
          0.8660254037844387,
          0.8660254037844387,
          0.8660254037844387,
          0.5000000000000001,
          0.5000000000000001,
          0.5000000000000001,
          0.5000000000000001,
          0.5000000000000001,
          0.5000000000000001,
          0.5000000000000001,
          0.5000000000000001,
          0.5000000000000001,
          0.5000000000000001,
          0.5000000000000001,
          0.5000000000000001,
          0.5000000000000001,
          0.5000000000000001,
          0.5000000000000001,
          0.5000000000000001,
          0.5000000000000001,
          0.5000000000000001,
          0.5000000000000001,
          0.5000000000000001,
          0.5000000000000001,
          0.5000000000000001,
          0.5000000000000001,
          0.5000000000000001,
          0.5000000000000001,
          0.5000000000000001,
          0.5000000000000001,
          0.5000000000000001,
          0.5000000000000001,
          0.5000000000000001,
          0.5000000000000001,
          6.123233995736766e-17,
          6.123233995736766e-17,
          6.123233995736766e-17,
          6.123233995736766e-17,
          6.123233995736766e-17,
          6.123233995736766e-17,
          6.123233995736766e-17,
          6.123233995736766e-17,
          -0.8660254037844385,
          -1,
          -1,
          -1,
          -1,
          -1,
          -1,
          -1,
          -1,
          -1,
          -0.8660254037844388,
          -0.8660254037844388,
          -0.8660254037844388,
          -0.8660254037844388,
          -1.8369701987210297e-16,
          -1.8369701987210297e-16,
          -1.8369701987210297e-16,
          -1.8369701987210297e-16,
          -1.8369701987210297e-16,
          -1.8369701987210297e-16,
          -1.8369701987210297e-16,
          0.8660254037844384
         ],
         "yaxis": "y2"
        },
        {
         "mode": "markers",
         "type": "scatter",
         "x": [
          -0.9948693233918952,
          0.9189578116202306,
          -0.8743466161445822,
          -0.2506525322587205,
          0.9189578116202306,
          0.8207634412072763,
          0.1514277775045767,
          0.8207634412072763,
          -0.44039415155763423,
          0.6889669190756865,
          -0.9948693233918952,
          0.5289640103269624,
          -0.6121059825476627,
          -0.7587581226927911,
          -0.2506525322587205,
          -0.758758122692791,
          -0.44039415155763423,
          -0.9948693233918952,
          -0.6121059825476627,
          -0.2506525322587205,
          -0.7587581226927911,
          -0.9948693233918952,
          -0.8743466161445822,
          -0.6121059825476627,
          -0.9541392564000489,
          -0.2506525322587204,
          -0.05064916883871264,
          0.9189578116202306,
          0.8207634412072763,
          0.6889669190756866,
          0.6889669190756866,
          -0.05064916883871264,
          0.5289640103269624,
          0.5289640103269624,
          0.15142777750457667,
          0.5289640103269624,
          -0.9541392564000489,
          0.15142777750457667,
          0.1514277775045767,
          -0.8743466161445822,
          -0.05064916883871266,
          -0.8743466161445822,
          0.9189578116202306,
          0.6889669190756865,
          -0.2506525322587205,
          0.3473052528448203,
          -0.2506525322587205,
          -0.7587581226927911,
          -0.6121059825476627,
          -0.05064916883871266,
          0.15142777750457667,
          -0.2506525322587205,
          0.6889669190756865,
          1,
          0.9795299412524945,
          -0.6121059825476629,
          -0.6121059825476629,
          -0.758758122692791,
          -0.758758122692791,
          -0.8743466161445821,
          0.3473052528448203,
          0.3473052528448203,
          -0.8743466161445822,
          -0.9541392564000488,
          0.5289640103269624,
          0.8207634412072763,
          -0.9948693233918952,
          0.9189578116202306,
          0.5289640103269624,
          -0.4403941515576344,
          0.5289640103269624,
          0.1514277775045767,
          0.9189578116202306,
          0.9189578116202306,
          0.1514277775045767,
          0.9189578116202306,
          -0.9948693233918952,
          -0.9948693233918952,
          0.9189578116202306,
          -0.758758122692791,
          0.9189578116202306,
          -0.8743466161445822,
          0.9189578116202306,
          0.3473052528448203,
          -0.6121059825476627,
          -0.9541392564000488,
          0.8207634412072763,
          0.5289640103269624,
          0.6889669190756866,
          0.5289640103269624,
          -0.9541392564000488,
          -0.8743466161445821,
          0.6889669190756866,
          -0.9948693233918952,
          0.8207634412072763,
          -0.9541392564000488,
          -0.8743466161445822,
          -0.4403941515576344,
          -0.4403941515576344,
          -0.9541392564000488
         ],
         "xaxis": "x3",
         "y": [
          0.10116832198743228,
          -0.3943558551133187,
          -0.4853019625310808,
          -0.9680771188662043,
          -0.3943558551133187,
          -0.5712682150947924,
          0.9884683243281114,
          0.5712682150947923,
          -0.8978045395707417,
          -0.72479278722912,
          0.10116832198743228,
          -0.8486442574947509,
          -0.7907757369376986,
          -0.651372482722222,
          -0.9680771188662043,
          0.6513724827222223,
          -0.8978045395707417,
          -0.10116832198743204,
          -0.7907757369376986,
          -0.9680771188662043,
          -0.651372482722222,
          -0.10116832198743204,
          -0.4853019625310808,
          -0.7907757369376986,
          -0.29936312297335776,
          0.9680771188662043,
          0.9987165071710528,
          0.39435585511331855,
          0.5712682150947923,
          0.72479278722912,
          0.72479278722912,
          0.9987165071710528,
          -0.8486442574947509,
          -0.8486442574947509,
          -0.9884683243281114,
          -0.8486442574947509,
          -0.29936312297335776,
          -0.9884683243281114,
          0.9884683243281114,
          -0.4853019625310808,
          -0.9987165071710528,
          -0.4853019625310808,
          -0.3943558551133187,
          -0.72479278722912,
          -0.9680771188662043,
          -0.9377521321470804,
          -0.9680771188662043,
          -0.651372482722222,
          -0.7907757369376986,
          -0.9987165071710528,
          -0.9884683243281114,
          -0.9680771188662043,
          -0.72479278722912,
          0,
          -0.20129852008866028,
          0.7907757369376985,
          0.7907757369376985,
          0.6513724827222223,
          0.6513724827222223,
          0.48530196253108104,
          0.9377521321470804,
          0.9377521321470804,
          -0.4853019625310808,
          0.29936312297335804,
          0.8486442574947509,
          0.5712682150947923,
          -0.10116832198743204,
          -0.3943558551133187,
          0.8486442574947509,
          0.8978045395707416,
          0.8486442574947509,
          0.9884683243281114,
          0.39435585511331855,
          0.39435585511331855,
          0.9884683243281114,
          0.39435585511331855,
          -0.10116832198743204,
          -0.10116832198743204,
          0.39435585511331855,
          0.6513724827222223,
          -0.3943558551133187,
          -0.4853019625310808,
          0.39435585511331855,
          -0.9377521321470804,
          -0.7907757369376986,
          0.29936312297335804,
          -0.5712682150947924,
          -0.8486442574947509,
          0.72479278722912,
          0.8486442574947509,
          0.29936312297335804,
          0.48530196253108104,
          0.72479278722912,
          -0.10116832198743204,
          -0.5712682150947924,
          0.29936312297335804,
          -0.4853019625310808,
          0.8978045395707416,
          0.8978045395707416,
          0.29936312297335804
         ],
         "yaxis": "y3"
        },
        {
         "mode": "markers",
         "type": "scatter",
         "x": [
          1,
          1,
          1,
          1,
          1,
          1,
          1,
          1,
          1,
          1,
          1,
          1,
          1,
          1,
          0.8660254037844387,
          0.8660254037844387,
          0.8660254037844387,
          0.8660254037844387,
          0.8660254037844387,
          0.8660254037844387,
          0.8660254037844387,
          0.8660254037844387,
          0.8660254037844387,
          0.8660254037844387,
          0.8660254037844387,
          0.8660254037844387,
          0.8660254037844387,
          0.8660254037844387,
          0.8660254037844387,
          0.8660254037844387,
          0.8660254037844387,
          0.8660254037844387,
          0.8660254037844387,
          0.8660254037844387,
          0.8660254037844387,
          0.8660254037844387,
          0.8660254037844387,
          0.8660254037844387,
          0.8660254037844387,
          0.5000000000000001,
          0.5000000000000001,
          0.5000000000000001,
          0.5000000000000001,
          0.5000000000000001,
          0.5000000000000001,
          0.5000000000000001,
          0.5000000000000001,
          0.5000000000000001,
          0.5000000000000001,
          0.5000000000000001,
          0.5000000000000001,
          0.5000000000000001,
          0.5000000000000001,
          0.5000000000000001,
          0.5000000000000001,
          0.5000000000000001,
          0.5000000000000001,
          0.5000000000000001,
          0.5000000000000001,
          0.5000000000000001,
          0.5000000000000001,
          0.5000000000000001,
          0.5000000000000001,
          0.5000000000000001,
          0.5000000000000001,
          0.5000000000000001,
          0.5000000000000001,
          0.5000000000000001,
          0.5000000000000001,
          0.5000000000000001,
          6.123233995736766e-17,
          6.123233995736766e-17,
          6.123233995736766e-17,
          6.123233995736766e-17,
          6.123233995736766e-17,
          6.123233995736766e-17,
          6.123233995736766e-17,
          6.123233995736766e-17,
          -0.8660254037844385,
          -1,
          -1,
          -1,
          -1,
          -1,
          -1,
          -1,
          -1,
          -1,
          -0.8660254037844388,
          -0.8660254037844388,
          -0.8660254037844388,
          -0.8660254037844388,
          -1.8369701987210297e-16,
          -1.8369701987210297e-16,
          -1.8369701987210297e-16,
          -1.8369701987210297e-16,
          -1.8369701987210297e-16,
          -1.8369701987210297e-16,
          -1.8369701987210297e-16,
          0.8660254037844384
         ],
         "xaxis": "x4",
         "y": [
          0,
          0,
          0,
          0,
          0,
          0,
          0,
          0,
          0,
          0,
          0,
          0,
          0,
          0,
          0.49999999999999994,
          0.49999999999999994,
          0.49999999999999994,
          0.49999999999999994,
          0.49999999999999994,
          0.49999999999999994,
          0.49999999999999994,
          0.49999999999999994,
          0.49999999999999994,
          0.49999999999999994,
          0.49999999999999994,
          0.49999999999999994,
          0.49999999999999994,
          0.49999999999999994,
          0.49999999999999994,
          0.49999999999999994,
          0.49999999999999994,
          0.49999999999999994,
          0.49999999999999994,
          0.49999999999999994,
          0.49999999999999994,
          0.49999999999999994,
          0.49999999999999994,
          0.49999999999999994,
          0.49999999999999994,
          0.8660254037844386,
          0.8660254037844386,
          0.8660254037844386,
          0.8660254037844386,
          0.8660254037844386,
          0.8660254037844386,
          0.8660254037844386,
          0.8660254037844386,
          0.8660254037844386,
          0.8660254037844386,
          0.8660254037844386,
          0.8660254037844386,
          0.8660254037844386,
          0.8660254037844386,
          0.8660254037844386,
          0.8660254037844386,
          0.8660254037844386,
          0.8660254037844386,
          0.8660254037844386,
          0.8660254037844386,
          0.8660254037844386,
          0.8660254037844386,
          0.8660254037844386,
          0.8660254037844386,
          0.8660254037844386,
          0.8660254037844386,
          0.8660254037844386,
          0.8660254037844386,
          0.8660254037844386,
          0.8660254037844386,
          0.8660254037844386,
          1,
          1,
          1,
          1,
          1,
          1,
          1,
          1,
          0.5000000000000003,
          1.2246467991473532e-16,
          1.2246467991473532e-16,
          1.2246467991473532e-16,
          1.2246467991473532e-16,
          1.2246467991473532e-16,
          1.2246467991473532e-16,
          1.2246467991473532e-16,
          1.2246467991473532e-16,
          1.2246467991473532e-16,
          -0.4999999999999997,
          -0.4999999999999997,
          -0.4999999999999997,
          -0.4999999999999997,
          -1,
          -1,
          -1,
          -1,
          -1,
          -1,
          -1,
          -0.5000000000000004
         ],
         "yaxis": "y4"
        }
       ],
       "layout": {
        "annotations": [
         {
          "font": {
           "size": 16
          },
          "showarrow": false,
          "text": "Day",
          "x": 0.225,
          "xanchor": "center",
          "xref": "paper",
          "y": 1,
          "yanchor": "bottom",
          "yref": "paper"
         },
         {
          "font": {
           "size": 16
          },
          "showarrow": false,
          "text": "Month",
          "x": 0.775,
          "xanchor": "center",
          "xref": "paper",
          "y": 1,
          "yanchor": "bottom",
          "yref": "paper"
         },
         {
          "font": {
           "size": 16
          },
          "showarrow": false,
          "text": "Day",
          "x": 0.225,
          "xanchor": "center",
          "xref": "paper",
          "y": 0.375,
          "yanchor": "bottom",
          "yref": "paper"
         },
         {
          "font": {
           "size": 16
          },
          "showarrow": false,
          "text": "Month",
          "x": 0.775,
          "xanchor": "center",
          "xref": "paper",
          "y": 0.375,
          "yanchor": "bottom",
          "yref": "paper"
         }
        ],
        "height": 600,
        "template": {
         "data": {
          "bar": [
           {
            "error_x": {
             "color": "#2a3f5f"
            },
            "error_y": {
             "color": "#2a3f5f"
            },
            "marker": {
             "line": {
              "color": "#E5ECF6",
              "width": 0.5
             },
             "pattern": {
              "fillmode": "overlay",
              "size": 10,
              "solidity": 0.2
             }
            },
            "type": "bar"
           }
          ],
          "barpolar": [
           {
            "marker": {
             "line": {
              "color": "#E5ECF6",
              "width": 0.5
             },
             "pattern": {
              "fillmode": "overlay",
              "size": 10,
              "solidity": 0.2
             }
            },
            "type": "barpolar"
           }
          ],
          "carpet": [
           {
            "aaxis": {
             "endlinecolor": "#2a3f5f",
             "gridcolor": "white",
             "linecolor": "white",
             "minorgridcolor": "white",
             "startlinecolor": "#2a3f5f"
            },
            "baxis": {
             "endlinecolor": "#2a3f5f",
             "gridcolor": "white",
             "linecolor": "white",
             "minorgridcolor": "white",
             "startlinecolor": "#2a3f5f"
            },
            "type": "carpet"
           }
          ],
          "choropleth": [
           {
            "colorbar": {
             "outlinewidth": 0,
             "ticks": ""
            },
            "type": "choropleth"
           }
          ],
          "contour": [
           {
            "colorbar": {
             "outlinewidth": 0,
             "ticks": ""
            },
            "colorscale": [
             [
              0,
              "#0d0887"
             ],
             [
              0.1111111111111111,
              "#46039f"
             ],
             [
              0.2222222222222222,
              "#7201a8"
             ],
             [
              0.3333333333333333,
              "#9c179e"
             ],
             [
              0.4444444444444444,
              "#bd3786"
             ],
             [
              0.5555555555555556,
              "#d8576b"
             ],
             [
              0.6666666666666666,
              "#ed7953"
             ],
             [
              0.7777777777777778,
              "#fb9f3a"
             ],
             [
              0.8888888888888888,
              "#fdca26"
             ],
             [
              1,
              "#f0f921"
             ]
            ],
            "type": "contour"
           }
          ],
          "contourcarpet": [
           {
            "colorbar": {
             "outlinewidth": 0,
             "ticks": ""
            },
            "type": "contourcarpet"
           }
          ],
          "heatmap": [
           {
            "colorbar": {
             "outlinewidth": 0,
             "ticks": ""
            },
            "colorscale": [
             [
              0,
              "#0d0887"
             ],
             [
              0.1111111111111111,
              "#46039f"
             ],
             [
              0.2222222222222222,
              "#7201a8"
             ],
             [
              0.3333333333333333,
              "#9c179e"
             ],
             [
              0.4444444444444444,
              "#bd3786"
             ],
             [
              0.5555555555555556,
              "#d8576b"
             ],
             [
              0.6666666666666666,
              "#ed7953"
             ],
             [
              0.7777777777777778,
              "#fb9f3a"
             ],
             [
              0.8888888888888888,
              "#fdca26"
             ],
             [
              1,
              "#f0f921"
             ]
            ],
            "type": "heatmap"
           }
          ],
          "heatmapgl": [
           {
            "colorbar": {
             "outlinewidth": 0,
             "ticks": ""
            },
            "colorscale": [
             [
              0,
              "#0d0887"
             ],
             [
              0.1111111111111111,
              "#46039f"
             ],
             [
              0.2222222222222222,
              "#7201a8"
             ],
             [
              0.3333333333333333,
              "#9c179e"
             ],
             [
              0.4444444444444444,
              "#bd3786"
             ],
             [
              0.5555555555555556,
              "#d8576b"
             ],
             [
              0.6666666666666666,
              "#ed7953"
             ],
             [
              0.7777777777777778,
              "#fb9f3a"
             ],
             [
              0.8888888888888888,
              "#fdca26"
             ],
             [
              1,
              "#f0f921"
             ]
            ],
            "type": "heatmapgl"
           }
          ],
          "histogram": [
           {
            "marker": {
             "pattern": {
              "fillmode": "overlay",
              "size": 10,
              "solidity": 0.2
             }
            },
            "type": "histogram"
           }
          ],
          "histogram2d": [
           {
            "colorbar": {
             "outlinewidth": 0,
             "ticks": ""
            },
            "colorscale": [
             [
              0,
              "#0d0887"
             ],
             [
              0.1111111111111111,
              "#46039f"
             ],
             [
              0.2222222222222222,
              "#7201a8"
             ],
             [
              0.3333333333333333,
              "#9c179e"
             ],
             [
              0.4444444444444444,
              "#bd3786"
             ],
             [
              0.5555555555555556,
              "#d8576b"
             ],
             [
              0.6666666666666666,
              "#ed7953"
             ],
             [
              0.7777777777777778,
              "#fb9f3a"
             ],
             [
              0.8888888888888888,
              "#fdca26"
             ],
             [
              1,
              "#f0f921"
             ]
            ],
            "type": "histogram2d"
           }
          ],
          "histogram2dcontour": [
           {
            "colorbar": {
             "outlinewidth": 0,
             "ticks": ""
            },
            "colorscale": [
             [
              0,
              "#0d0887"
             ],
             [
              0.1111111111111111,
              "#46039f"
             ],
             [
              0.2222222222222222,
              "#7201a8"
             ],
             [
              0.3333333333333333,
              "#9c179e"
             ],
             [
              0.4444444444444444,
              "#bd3786"
             ],
             [
              0.5555555555555556,
              "#d8576b"
             ],
             [
              0.6666666666666666,
              "#ed7953"
             ],
             [
              0.7777777777777778,
              "#fb9f3a"
             ],
             [
              0.8888888888888888,
              "#fdca26"
             ],
             [
              1,
              "#f0f921"
             ]
            ],
            "type": "histogram2dcontour"
           }
          ],
          "mesh3d": [
           {
            "colorbar": {
             "outlinewidth": 0,
             "ticks": ""
            },
            "type": "mesh3d"
           }
          ],
          "parcoords": [
           {
            "line": {
             "colorbar": {
              "outlinewidth": 0,
              "ticks": ""
             }
            },
            "type": "parcoords"
           }
          ],
          "pie": [
           {
            "automargin": true,
            "type": "pie"
           }
          ],
          "scatter": [
           {
            "marker": {
             "colorbar": {
              "outlinewidth": 0,
              "ticks": ""
             }
            },
            "type": "scatter"
           }
          ],
          "scatter3d": [
           {
            "line": {
             "colorbar": {
              "outlinewidth": 0,
              "ticks": ""
             }
            },
            "marker": {
             "colorbar": {
              "outlinewidth": 0,
              "ticks": ""
             }
            },
            "type": "scatter3d"
           }
          ],
          "scattercarpet": [
           {
            "marker": {
             "colorbar": {
              "outlinewidth": 0,
              "ticks": ""
             }
            },
            "type": "scattercarpet"
           }
          ],
          "scattergeo": [
           {
            "marker": {
             "colorbar": {
              "outlinewidth": 0,
              "ticks": ""
             }
            },
            "type": "scattergeo"
           }
          ],
          "scattergl": [
           {
            "marker": {
             "colorbar": {
              "outlinewidth": 0,
              "ticks": ""
             }
            },
            "type": "scattergl"
           }
          ],
          "scattermapbox": [
           {
            "marker": {
             "colorbar": {
              "outlinewidth": 0,
              "ticks": ""
             }
            },
            "type": "scattermapbox"
           }
          ],
          "scatterpolar": [
           {
            "marker": {
             "colorbar": {
              "outlinewidth": 0,
              "ticks": ""
             }
            },
            "type": "scatterpolar"
           }
          ],
          "scatterpolargl": [
           {
            "marker": {
             "colorbar": {
              "outlinewidth": 0,
              "ticks": ""
             }
            },
            "type": "scatterpolargl"
           }
          ],
          "scatterternary": [
           {
            "marker": {
             "colorbar": {
              "outlinewidth": 0,
              "ticks": ""
             }
            },
            "type": "scatterternary"
           }
          ],
          "surface": [
           {
            "colorbar": {
             "outlinewidth": 0,
             "ticks": ""
            },
            "colorscale": [
             [
              0,
              "#0d0887"
             ],
             [
              0.1111111111111111,
              "#46039f"
             ],
             [
              0.2222222222222222,
              "#7201a8"
             ],
             [
              0.3333333333333333,
              "#9c179e"
             ],
             [
              0.4444444444444444,
              "#bd3786"
             ],
             [
              0.5555555555555556,
              "#d8576b"
             ],
             [
              0.6666666666666666,
              "#ed7953"
             ],
             [
              0.7777777777777778,
              "#fb9f3a"
             ],
             [
              0.8888888888888888,
              "#fdca26"
             ],
             [
              1,
              "#f0f921"
             ]
            ],
            "type": "surface"
           }
          ],
          "table": [
           {
            "cells": {
             "fill": {
              "color": "#EBF0F8"
             },
             "line": {
              "color": "white"
             }
            },
            "header": {
             "fill": {
              "color": "#C8D4E3"
             },
             "line": {
              "color": "white"
             }
            },
            "type": "table"
           }
          ]
         },
         "layout": {
          "annotationdefaults": {
           "arrowcolor": "#2a3f5f",
           "arrowhead": 0,
           "arrowwidth": 1
          },
          "autotypenumbers": "strict",
          "coloraxis": {
           "colorbar": {
            "outlinewidth": 0,
            "ticks": ""
           }
          },
          "colorscale": {
           "diverging": [
            [
             0,
             "#8e0152"
            ],
            [
             0.1,
             "#c51b7d"
            ],
            [
             0.2,
             "#de77ae"
            ],
            [
             0.3,
             "#f1b6da"
            ],
            [
             0.4,
             "#fde0ef"
            ],
            [
             0.5,
             "#f7f7f7"
            ],
            [
             0.6,
             "#e6f5d0"
            ],
            [
             0.7,
             "#b8e186"
            ],
            [
             0.8,
             "#7fbc41"
            ],
            [
             0.9,
             "#4d9221"
            ],
            [
             1,
             "#276419"
            ]
           ],
           "sequential": [
            [
             0,
             "#0d0887"
            ],
            [
             0.1111111111111111,
             "#46039f"
            ],
            [
             0.2222222222222222,
             "#7201a8"
            ],
            [
             0.3333333333333333,
             "#9c179e"
            ],
            [
             0.4444444444444444,
             "#bd3786"
            ],
            [
             0.5555555555555556,
             "#d8576b"
            ],
            [
             0.6666666666666666,
             "#ed7953"
            ],
            [
             0.7777777777777778,
             "#fb9f3a"
            ],
            [
             0.8888888888888888,
             "#fdca26"
            ],
            [
             1,
             "#f0f921"
            ]
           ],
           "sequentialminus": [
            [
             0,
             "#0d0887"
            ],
            [
             0.1111111111111111,
             "#46039f"
            ],
            [
             0.2222222222222222,
             "#7201a8"
            ],
            [
             0.3333333333333333,
             "#9c179e"
            ],
            [
             0.4444444444444444,
             "#bd3786"
            ],
            [
             0.5555555555555556,
             "#d8576b"
            ],
            [
             0.6666666666666666,
             "#ed7953"
            ],
            [
             0.7777777777777778,
             "#fb9f3a"
            ],
            [
             0.8888888888888888,
             "#fdca26"
            ],
            [
             1,
             "#f0f921"
            ]
           ]
          },
          "colorway": [
           "#636efa",
           "#EF553B",
           "#00cc96",
           "#ab63fa",
           "#FFA15A",
           "#19d3f3",
           "#FF6692",
           "#B6E880",
           "#FF97FF",
           "#FECB52"
          ],
          "font": {
           "color": "#2a3f5f"
          },
          "geo": {
           "bgcolor": "white",
           "lakecolor": "white",
           "landcolor": "#E5ECF6",
           "showlakes": true,
           "showland": true,
           "subunitcolor": "white"
          },
          "hoverlabel": {
           "align": "left"
          },
          "hovermode": "closest",
          "mapbox": {
           "style": "light"
          },
          "paper_bgcolor": "white",
          "plot_bgcolor": "#E5ECF6",
          "polar": {
           "angularaxis": {
            "gridcolor": "white",
            "linecolor": "white",
            "ticks": ""
           },
           "bgcolor": "#E5ECF6",
           "radialaxis": {
            "gridcolor": "white",
            "linecolor": "white",
            "ticks": ""
           }
          },
          "scene": {
           "xaxis": {
            "backgroundcolor": "#E5ECF6",
            "gridcolor": "white",
            "gridwidth": 2,
            "linecolor": "white",
            "showbackground": true,
            "ticks": "",
            "zerolinecolor": "white"
           },
           "yaxis": {
            "backgroundcolor": "#E5ECF6",
            "gridcolor": "white",
            "gridwidth": 2,
            "linecolor": "white",
            "showbackground": true,
            "ticks": "",
            "zerolinecolor": "white"
           },
           "zaxis": {
            "backgroundcolor": "#E5ECF6",
            "gridcolor": "white",
            "gridwidth": 2,
            "linecolor": "white",
            "showbackground": true,
            "ticks": "",
            "zerolinecolor": "white"
           }
          },
          "shapedefaults": {
           "line": {
            "color": "#2a3f5f"
           }
          },
          "ternary": {
           "aaxis": {
            "gridcolor": "white",
            "linecolor": "white",
            "ticks": ""
           },
           "baxis": {
            "gridcolor": "white",
            "linecolor": "white",
            "ticks": ""
           },
           "bgcolor": "#E5ECF6",
           "caxis": {
            "gridcolor": "white",
            "linecolor": "white",
            "ticks": ""
           }
          },
          "title": {
           "x": 0.05
          },
          "xaxis": {
           "automargin": true,
           "gridcolor": "white",
           "linecolor": "white",
           "ticks": "",
           "title": {
            "standoff": 15
           },
           "zerolinecolor": "white",
           "zerolinewidth": 2
          },
          "yaxis": {
           "automargin": true,
           "gridcolor": "white",
           "linecolor": "white",
           "ticks": "",
           "title": {
            "standoff": 15
           },
           "zerolinecolor": "white",
           "zerolinewidth": 2
          }
         }
        },
        "title": {
         "text": "DateTime Cyclical Sin and Cosine Features"
        },
        "width": 800,
        "xaxis": {
         "anchor": "y",
         "domain": [
          0,
          0.45
         ]
        },
        "xaxis2": {
         "anchor": "y2",
         "domain": [
          0.55,
          1
         ]
        },
        "xaxis3": {
         "anchor": "y3",
         "domain": [
          0,
          0.45
         ]
        },
        "xaxis4": {
         "anchor": "y4",
         "domain": [
          0.55,
          1
         ]
        },
        "yaxis": {
         "anchor": "x",
         "domain": [
          0.625,
          1
         ]
        },
        "yaxis2": {
         "anchor": "x2",
         "domain": [
          0.625,
          1
         ]
        },
        "yaxis3": {
         "anchor": "x3",
         "domain": [
          0,
          0.375
         ]
        },
        "yaxis4": {
         "anchor": "x4",
         "domain": [
          0,
          0.375
         ]
        }
       }
      }
     },
     "metadata": {},
     "output_type": "display_data"
    }
   ],
   "source": [
    "df_sample = df.sample(100)\n",
    "\n",
    "\n",
    "fig = make_subplots(rows=2, cols=2, subplot_titles=(\"Day\", \"Month\", \"Day\", \"Month\"))\n",
    "\n",
    "# graphing day features (row1, col1)\n",
    "df_sample = df_sample.sort_values('norm_day').reset_index(drop=True)\n",
    "fig.add_trace(go.Scatter(x=df_sample.norm_day, y=df_sample.sin_day, name='Sin'), row=1, col=1)\n",
    "fig.add_trace(go.Scatter(x=df_sample.norm_day, y=df_sample.cos_day, name='Cosine'), row=1, col=1)\n",
    "\n",
    "# graphing months features (row1, col2)\n",
    "df_sample = df_sample.sort_values('norm_month').reset_index(drop=True)\n",
    "fig.add_trace(go.Scatter(x=df_sample.norm_month, y=df_sample.sin_month, name='Sin'), row=1, col=2)\n",
    "fig.add_trace(go.Scatter(x=df_sample.norm_month, y=df_sample.cos_month, name='Cosine'), row=1, col=2)\n",
    "\n",
    "# graphing sin and cosine feature relationship\n",
    "fig.add_trace(go.Scatter(x=df_sample.cos_day, y=df_sample.sin_day, mode=\"markers\"), row=2, col=1)\n",
    "fig.add_trace(go.Scatter(x=df_sample.cos_month, y=df_sample.sin_month, mode=\"markers\"), row=2, col=2)\n",
    "\n",
    "fig.update_layout(height=600, width=800, title_text=\"DateTime Cyclical Sin and Cosine Features\")\n",
    "\n",
    "fig.show()"
   ]
  },
  {
   "cell_type": "markdown",
   "metadata": {},
   "source": [
    "### Creating a years since contructed Feature\n",
    "\n",
    "- Turning two features into one\n",
    "- reduces dimensionality be removing year contructed and year recorded\n",
    "- given there is only a few years that are in date_recorded this feature becomes much more rich"
   ]
  },
  {
   "cell_type": "code",
   "execution_count": null,
   "metadata": {},
   "outputs": [],
   "source": [
    "df['years_in_service'] = df['year_recorded'] - df['construction_year']"
   ]
  },
  {
   "cell_type": "code",
   "execution_count": null,
   "metadata": {},
   "outputs": [
    {
     "data": {
      "text/html": [
       "<div>\n",
       "<style scoped>\n",
       "    .dataframe tbody tr th:only-of-type {\n",
       "        vertical-align: middle;\n",
       "    }\n",
       "\n",
       "    .dataframe tbody tr th {\n",
       "        vertical-align: top;\n",
       "    }\n",
       "\n",
       "    .dataframe thead th {\n",
       "        text-align: right;\n",
       "    }\n",
       "</style>\n",
       "<table border=\"1\" class=\"dataframe\">\n",
       "  <thead>\n",
       "    <tr style=\"text-align: right;\">\n",
       "      <th></th>\n",
       "      <th>id</th>\n",
       "      <th>amount_tsh</th>\n",
       "      <th>date_recorded</th>\n",
       "      <th>gps_height</th>\n",
       "      <th>longitude</th>\n",
       "      <th>latitude</th>\n",
       "      <th>basin</th>\n",
       "      <th>region_code</th>\n",
       "      <th>lga</th>\n",
       "      <th>population</th>\n",
       "      <th>public_meeting</th>\n",
       "      <th>permit</th>\n",
       "      <th>construction_year</th>\n",
       "      <th>extraction_type_class</th>\n",
       "      <th>management_group</th>\n",
       "      <th>payment</th>\n",
       "      <th>quality_group</th>\n",
       "      <th>quantity</th>\n",
       "      <th>source_class</th>\n",
       "      <th>waterpoint_type</th>\n",
       "      <th>status_group</th>\n",
       "      <th>year_recorded</th>\n",
       "      <th>month_rec</th>\n",
       "      <th>day_rec</th>\n",
       "      <th>norm_day</th>\n",
       "      <th>norm_month</th>\n",
       "      <th>sin_day</th>\n",
       "      <th>sin_month</th>\n",
       "      <th>cos_day</th>\n",
       "      <th>cos_month</th>\n",
       "      <th>years_in_service</th>\n",
       "    </tr>\n",
       "  </thead>\n",
       "  <tbody>\n",
       "    <tr>\n",
       "      <th>0</th>\n",
       "      <td>69572.0</td>\n",
       "      <td>6000.0</td>\n",
       "      <td>2011-03-14</td>\n",
       "      <td>1390.0</td>\n",
       "      <td>34.938093</td>\n",
       "      <td>-9.856322</td>\n",
       "      <td>1.0</td>\n",
       "      <td>11.0</td>\n",
       "      <td>51.0</td>\n",
       "      <td>109.0</td>\n",
       "      <td>1.0</td>\n",
       "      <td>1.0</td>\n",
       "      <td>1999.0</td>\n",
       "      <td>0.0</td>\n",
       "      <td>3.0</td>\n",
       "      <td>2.0</td>\n",
       "      <td>2.0</td>\n",
       "      <td>1.0</td>\n",
       "      <td>0.0</td>\n",
       "      <td>1.0</td>\n",
       "      <td>functional</td>\n",
       "      <td>2011</td>\n",
       "      <td>3</td>\n",
       "      <td>14</td>\n",
       "      <td>2.837568</td>\n",
       "      <td>1.570796</td>\n",
       "      <td>0.485302</td>\n",
       "      <td>8.660254e-01</td>\n",
       "      <td>-0.874347</td>\n",
       "      <td>0.500000</td>\n",
       "      <td>12.0</td>\n",
       "    </tr>\n",
       "    <tr>\n",
       "      <th>1</th>\n",
       "      <td>8776.0</td>\n",
       "      <td>612.5</td>\n",
       "      <td>2013-03-06</td>\n",
       "      <td>1399.0</td>\n",
       "      <td>34.698766</td>\n",
       "      <td>-2.147466</td>\n",
       "      <td>4.0</td>\n",
       "      <td>20.0</td>\n",
       "      <td>103.0</td>\n",
       "      <td>280.0</td>\n",
       "      <td>1.0</td>\n",
       "      <td>1.0</td>\n",
       "      <td>2010.0</td>\n",
       "      <td>0.0</td>\n",
       "      <td>3.0</td>\n",
       "      <td>0.0</td>\n",
       "      <td>2.0</td>\n",
       "      <td>2.0</td>\n",
       "      <td>1.0</td>\n",
       "      <td>1.0</td>\n",
       "      <td>functional</td>\n",
       "      <td>2013</td>\n",
       "      <td>3</td>\n",
       "      <td>6</td>\n",
       "      <td>1.216100</td>\n",
       "      <td>1.570796</td>\n",
       "      <td>0.848644</td>\n",
       "      <td>8.660254e-01</td>\n",
       "      <td>0.528964</td>\n",
       "      <td>0.500000</td>\n",
       "      <td>3.0</td>\n",
       "    </tr>\n",
       "    <tr>\n",
       "      <th>2</th>\n",
       "      <td>34310.0</td>\n",
       "      <td>25.0</td>\n",
       "      <td>2013-02-25</td>\n",
       "      <td>686.0</td>\n",
       "      <td>37.460664</td>\n",
       "      <td>-3.821329</td>\n",
       "      <td>5.0</td>\n",
       "      <td>21.0</td>\n",
       "      <td>108.0</td>\n",
       "      <td>250.0</td>\n",
       "      <td>1.0</td>\n",
       "      <td>1.0</td>\n",
       "      <td>2009.0</td>\n",
       "      <td>0.0</td>\n",
       "      <td>3.0</td>\n",
       "      <td>4.0</td>\n",
       "      <td>2.0</td>\n",
       "      <td>1.0</td>\n",
       "      <td>1.0</td>\n",
       "      <td>2.0</td>\n",
       "      <td>functional</td>\n",
       "      <td>2013</td>\n",
       "      <td>2</td>\n",
       "      <td>25</td>\n",
       "      <td>5.067085</td>\n",
       "      <td>1.047198</td>\n",
       "      <td>-0.988468</td>\n",
       "      <td>5.000000e-01</td>\n",
       "      <td>0.151428</td>\n",
       "      <td>0.866025</td>\n",
       "      <td>4.0</td>\n",
       "    </tr>\n",
       "    <tr>\n",
       "      <th>3</th>\n",
       "      <td>67743.0</td>\n",
       "      <td>1012.5</td>\n",
       "      <td>2013-01-28</td>\n",
       "      <td>263.0</td>\n",
       "      <td>38.486161</td>\n",
       "      <td>-11.155298</td>\n",
       "      <td>7.0</td>\n",
       "      <td>90.0</td>\n",
       "      <td>87.0</td>\n",
       "      <td>58.0</td>\n",
       "      <td>1.0</td>\n",
       "      <td>1.0</td>\n",
       "      <td>1986.0</td>\n",
       "      <td>5.0</td>\n",
       "      <td>3.0</td>\n",
       "      <td>0.0</td>\n",
       "      <td>2.0</td>\n",
       "      <td>0.0</td>\n",
       "      <td>0.0</td>\n",
       "      <td>2.0</td>\n",
       "      <td>non functional</td>\n",
       "      <td>2013</td>\n",
       "      <td>1</td>\n",
       "      <td>28</td>\n",
       "      <td>5.675135</td>\n",
       "      <td>0.523599</td>\n",
       "      <td>-0.724793</td>\n",
       "      <td>0.000000e+00</td>\n",
       "      <td>0.688967</td>\n",
       "      <td>1.000000</td>\n",
       "      <td>27.0</td>\n",
       "    </tr>\n",
       "    <tr>\n",
       "      <th>4</th>\n",
       "      <td>19728.0</td>\n",
       "      <td>1500.0</td>\n",
       "      <td>2011-07-13</td>\n",
       "      <td>1173.5</td>\n",
       "      <td>31.130847</td>\n",
       "      <td>-1.825359</td>\n",
       "      <td>4.0</td>\n",
       "      <td>18.0</td>\n",
       "      <td>26.0</td>\n",
       "      <td>425.0</td>\n",
       "      <td>1.0</td>\n",
       "      <td>1.0</td>\n",
       "      <td>1997.0</td>\n",
       "      <td>0.0</td>\n",
       "      <td>1.0</td>\n",
       "      <td>0.0</td>\n",
       "      <td>2.0</td>\n",
       "      <td>3.0</td>\n",
       "      <td>1.0</td>\n",
       "      <td>1.0</td>\n",
       "      <td>functional</td>\n",
       "      <td>2011</td>\n",
       "      <td>7</td>\n",
       "      <td>13</td>\n",
       "      <td>2.634884</td>\n",
       "      <td>3.665191</td>\n",
       "      <td>0.651372</td>\n",
       "      <td>1.224647e-16</td>\n",
       "      <td>-0.758758</td>\n",
       "      <td>-1.000000</td>\n",
       "      <td>14.0</td>\n",
       "    </tr>\n",
       "  </tbody>\n",
       "</table>\n",
       "</div>"
      ],
      "text/plain": [
       "        id  amount_tsh date_recorded  gps_height  longitude   latitude  basin  \\\n",
       "0  69572.0      6000.0    2011-03-14      1390.0  34.938093  -9.856322    1.0   \n",
       "1   8776.0       612.5    2013-03-06      1399.0  34.698766  -2.147466    4.0   \n",
       "2  34310.0        25.0    2013-02-25       686.0  37.460664  -3.821329    5.0   \n",
       "3  67743.0      1012.5    2013-01-28       263.0  38.486161 -11.155298    7.0   \n",
       "4  19728.0      1500.0    2011-07-13      1173.5  31.130847  -1.825359    4.0   \n",
       "\n",
       "   region_code    lga  population  public_meeting  permit  construction_year  \\\n",
       "0         11.0   51.0       109.0             1.0     1.0             1999.0   \n",
       "1         20.0  103.0       280.0             1.0     1.0             2010.0   \n",
       "2         21.0  108.0       250.0             1.0     1.0             2009.0   \n",
       "3         90.0   87.0        58.0             1.0     1.0             1986.0   \n",
       "4         18.0   26.0       425.0             1.0     1.0             1997.0   \n",
       "\n",
       "   extraction_type_class  management_group  payment  quality_group  quantity  \\\n",
       "0                    0.0               3.0      2.0            2.0       1.0   \n",
       "1                    0.0               3.0      0.0            2.0       2.0   \n",
       "2                    0.0               3.0      4.0            2.0       1.0   \n",
       "3                    5.0               3.0      0.0            2.0       0.0   \n",
       "4                    0.0               1.0      0.0            2.0       3.0   \n",
       "\n",
       "   source_class  waterpoint_type    status_group  year_recorded  month_rec  \\\n",
       "0           0.0              1.0      functional           2011          3   \n",
       "1           1.0              1.0      functional           2013          3   \n",
       "2           1.0              2.0      functional           2013          2   \n",
       "3           0.0              2.0  non functional           2013          1   \n",
       "4           1.0              1.0      functional           2011          7   \n",
       "\n",
       "   day_rec  norm_day  norm_month   sin_day     sin_month   cos_day  cos_month  \\\n",
       "0       14  2.837568    1.570796  0.485302  8.660254e-01 -0.874347   0.500000   \n",
       "1        6  1.216100    1.570796  0.848644  8.660254e-01  0.528964   0.500000   \n",
       "2       25  5.067085    1.047198 -0.988468  5.000000e-01  0.151428   0.866025   \n",
       "3       28  5.675135    0.523599 -0.724793  0.000000e+00  0.688967   1.000000   \n",
       "4       13  2.634884    3.665191  0.651372  1.224647e-16 -0.758758  -1.000000   \n",
       "\n",
       "   years_in_service  \n",
       "0              12.0  \n",
       "1               3.0  \n",
       "2               4.0  \n",
       "3              27.0  \n",
       "4              14.0  "
      ]
     },
     "execution_count": 19,
     "metadata": {},
     "output_type": "execute_result"
    }
   ],
   "source": [
    "df.head()"
   ]
  },
  {
   "cell_type": "markdown",
   "metadata": {},
   "source": [
    "### Dropping Features that are unecessary for modeling"
   ]
  },
  {
   "cell_type": "code",
   "execution_count": null,
   "metadata": {},
   "outputs": [],
   "source": [
    "df.drop(['id'], axis=1, inplace=True)\n",
    "df.drop('date_recorded', axis=1, inplace=True)\n",
    "df.drop('construction_year', axis=1, inplace=True)\n",
    "df.drop('year_recorded', axis=1, inplace=True)\n",
    "df.drop('month_rec', axis=1, inplace=True)\n",
    "df.drop('day_rec', axis=1, inplace=True)"
   ]
  },
  {
   "cell_type": "markdown",
   "metadata": {},
   "source": [
    "### Using SelectKBest to find top features\n",
    "- should experiment with diffrent statistical tests\n",
    "- need to find a way to fill in missing data for each feature\n",
    "- maybe set a threshold for when to use ordinal and onehot encoding. maybe 5 or more categories...\n",
    "- https://stackoverflow.com/questions/56045435/filling-missing-values-with-values-from-most-similar-row"
   ]
  },
  {
   "cell_type": "code",
   "execution_count": null,
   "metadata": {},
   "outputs": [],
   "source": [
    "features = ['amount_tsh', 'gps_height', 'longitude', 'latitude', 'basin',\n",
    "       'region_code', 'lga', 'population', 'public_meeting', 'permit',\n",
    "       'extraction_type_class', 'management_group', 'payment', 'quality_group',\n",
    "       'quantity', 'source_class', 'waterpoint_type', 'norm_day', 'norm_month',\n",
    "       'sin_day', 'sin_month', 'cos_day', 'cos_month', 'years_in_service']\n",
    "\n",
    "X = df[features]\n",
    "\n",
    "label_enc = LabelEncoder()\n",
    "y = label_enc.fit_transform(df['status_group'])"
   ]
  },
  {
   "cell_type": "code",
   "execution_count": null,
   "metadata": {},
   "outputs": [
    {
     "name": "stdout",
     "output_type": "stream",
     "text": [
      "The selected feature:  Index(['extraction_type_class', 'payment', 'quantity', 'waterpoint_type',\n",
      "       'years_in_service'],\n",
      "      dtype='object')\n"
     ]
    }
   ],
   "source": [
    "selector = SelectKBest(score_func=f_regression, k=5)\n",
    "\n",
    "X_train_selected = selector.fit_transform(X, y)\n",
    "\n",
    "selected_masker = selector.get_support()\n",
    "all_features = X.columns\n",
    "selected_feature = all_features[selected_masker]\n",
    "\n",
    "print('The selected feature: ', selected_feature)"
   ]
  }
 ],
 "metadata": {
  "interpreter": {
   "hash": "8deca82d3bc03ac877f14f4e3cfa1c6cad7fc5e89892089bcb6f966ce50b49e2"
  },
  "kernelspec": {
   "display_name": "Python 3.6.5 64-bit",
   "language": "python",
   "name": "python3"
  },
  "language_info": {
   "codemirror_mode": {
    "name": "ipython",
    "version": 3
   },
   "file_extension": ".py",
   "mimetype": "text/x-python",
   "name": "python",
   "nbconvert_exporter": "python",
   "pygments_lexer": "ipython3",
   "version": "3.6.5"
  },
  "orig_nbformat": 4
 },
 "nbformat": 4,
 "nbformat_minor": 2
}
